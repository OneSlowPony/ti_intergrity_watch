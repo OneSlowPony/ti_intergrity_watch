{
 "cells": [
  {
   "cell_type": "code",
   "execution_count": 1,
   "metadata": {
    "collapsed": true
   },
   "outputs": [],
   "source": [
    "import numpy as np\n",
    "import pandas as pd\n",
    "import matplotlib.pyplot as plt\n",
    "%matplotlib inline\n",
    "\n",
    "import urllib\n",
    "import os\n",
    "import sys\n",
    "import random\n",
    "import glob\n",
    "import re\n",
    "import time\n",
    "from io import StringIO\n",
    "import bs4\n",
    "\n",
    "%load_ext autoreload\n",
    "%autoreload 2\n",
    "\n",
    "sys.path.append(\"../\")\n",
    "from cleaner import *"
   ]
  },
  {
   "cell_type": "code",
   "execution_count": 6,
   "metadata": {
    "collapsed": false
   },
   "outputs": [
    {
     "data": {
      "text/plain": [
       "['../data/raw\\\\Ministers-transparency-returns-Jan-Mar-15.odt',\n",
       " '../data/raw\\\\Ministers-transparency-returns-Jul-Sept-14.odt',\n",
       " '../data/raw\\\\Ministers-transparency-returns-Oct-Dec-14.odt',\n",
       " '../data/raw\\\\Ministers_Transparency_returns_Apr-Jun_14.odt',\n",
       " '../data/raw\\\\~$nisters_Transparency_returns_Apr-Jun_14.odt']"
      ]
     },
     "execution_count": 6,
     "metadata": {},
     "output_type": "execute_result"
    }
   ],
   "source": [
    "docs = glob.glob(\"../data/raw/*.odt\")\n",
    "docs"
   ]
  },
  {
   "cell_type": "code",
   "execution_count": 46,
   "metadata": {
    "collapsed": false
   },
   "outputs": [
    {
     "data": {
      "text/plain": [
       "'../data/raw\\\\Ministers_Transparency_returns_Apr-Jun_14.odt'"
      ]
     },
     "execution_count": 46,
     "metadata": {},
     "output_type": "execute_result"
    }
   ],
   "source": [
    "t = docs[3]\n",
    "t"
   ]
  },
  {
   "cell_type": "code",
   "execution_count": 47,
   "metadata": {
    "collapsed": true
   },
   "outputs": [],
   "source": [
    "import zipfile"
   ]
  },
  {
   "cell_type": "code",
   "execution_count": 48,
   "metadata": {
    "collapsed": false
   },
   "outputs": [],
   "source": [
    "zf = zipfile.ZipFile(t)"
   ]
  },
  {
   "cell_type": "code",
   "execution_count": 49,
   "metadata": {
    "collapsed": false
   },
   "outputs": [
    {
     "data": {
      "text/plain": [
       "[<zipfile.ZipInfo at 0xac05098>,\n",
       " <zipfile.ZipInfo at 0xac05100>,\n",
       " <zipfile.ZipInfo at 0xac05168>,\n",
       " <zipfile.ZipInfo at 0xac051d0>,\n",
       " <zipfile.ZipInfo at 0xac05238>,\n",
       " <zipfile.ZipInfo at 0xac052a0>]"
      ]
     },
     "execution_count": 49,
     "metadata": {},
     "output_type": "execute_result"
    }
   ],
   "source": [
    "zf.filelist"
   ]
  },
  {
   "cell_type": "code",
   "execution_count": 50,
   "metadata": {
    "collapsed": false
   },
   "outputs": [
    {
     "name": "stdout",
     "output_type": "stream",
     "text": [
      "mimetype (1980, 1, 1, 0, 0, 0) mimetype 39 39\n",
      "settings.xml (1980, 1, 1, 0, 0, 0) settings.xml 1385 378\n",
      "META-INF/manifest.xml (1980, 1, 1, 0, 0, 0) META-INF/manifest.xml 793 249\n",
      "meta.xml (1980, 1, 1, 0, 0, 0) meta.xml 1087 539\n",
      "content.xml (1980, 1, 1, 0, 0, 0) content.xml 427812 28427\n",
      "styles.xml (1980, 1, 1, 0, 0, 0) styles.xml 25599 3996\n"
     ]
    }
   ],
   "source": [
    "for s in zf.infolist():\n",
    "    print  s.orig_filename, s.date_time, s.filename, s.file_size, s.compress_size"
   ]
  },
  {
   "cell_type": "code",
   "execution_count": 51,
   "metadata": {
    "collapsed": true
   },
   "outputs": [],
   "source": [
    "content = [f for f in zf.filelist if f.filename == \"content.xml\"][0]"
   ]
  },
  {
   "cell_type": "code",
   "execution_count": 52,
   "metadata": {
    "collapsed": false
   },
   "outputs": [],
   "source": [
    "bs = bs4.BeautifulSoup(zf.read(\"content.xml\"), 'xml')"
   ]
  },
  {
   "cell_type": "code",
   "execution_count": 94,
   "metadata": {
    "collapsed": false,
    "scrolled": true
   },
   "outputs": [
    {
     "data": {
      "text/plain": [
       "30"
      ]
     },
     "execution_count": 94,
     "metadata": {},
     "output_type": "execute_result"
    }
   ],
   "source": [
    "tables = bs.findAll(\"table\")\n",
    "len(tables)"
   ]
  },
  {
   "cell_type": "code",
   "execution_count": 95,
   "metadata": {
    "collapsed": true
   },
   "outputs": [],
   "source": [
    "def tables_to_lists(table):\n",
    "    return [[tc.get_text() for tc in tr.findAll(\"table-cell\")] \n",
    "             for tr in table.findAll(\"table-row\")]\n",
    "\n",
    "def format_for_csv(s):\n",
    "    if \",\" in s:\n",
    "        return '\"' + s + '\"'\n",
    "    return s\n",
    "\n",
    "def table_to_csv(table_lst):\n",
    "    return \"\\r\\n\".join([\",\".join([format_for_csv(y) for y in x]) for x in table_lst])"
   ]
  },
  {
   "cell_type": "code",
   "execution_count": 96,
   "metadata": {
    "collapsed": true
   },
   "outputs": [],
   "source": [
    "csv_tables = [table_to_csv(tables_to_lists(table)) for table in tables]"
   ]
  },
  {
   "cell_type": "code",
   "execution_count": 107,
   "metadata": {
    "collapsed": false,
    "scrolled": true
   },
   "outputs": [
    {
     "ename": "AssertionError",
     "evalue": "",
     "output_type": "error",
     "traceback": [
      "\u001b[1;31m---------------------------------------------------------------------------\u001b[0m",
      "\u001b[1;31mAssertionError\u001b[0m                            Traceback (most recent call last)",
      "\u001b[1;32m<ipython-input-107-4071d3f17b98>\u001b[0m in \u001b[0;36m<module>\u001b[1;34m()\u001b[0m\n\u001b[1;32m----> 1\u001b[1;33m \u001b[0mcsv_cleaner\u001b[0m\u001b[1;33m.\u001b[0m\u001b[0mtry_to_parse_csv\u001b[0m\u001b[1;33m(\u001b[0m\u001b[0mraw_text\u001b[0m\u001b[1;33m=\u001b[0m\u001b[0mcsv_tables\u001b[0m\u001b[1;33m[\u001b[0m\u001b[1;36m24\u001b[0m\u001b[1;33m]\u001b[0m\u001b[1;33m)\u001b[0m\u001b[1;33m\u001b[0m\u001b[0m\n\u001b[0m",
      "\u001b[1;32mE:\\Local\\Projects\\Misc\\TI_intergrity_watch\\cleaner\\csv_cleaner.py\u001b[0m in \u001b[0;36mtry_to_parse_csv\u001b[1;34m(*args, **kargs)\u001b[0m\n\u001b[0;32m     42\u001b[0m         \u001b[1;32mreturn\u001b[0m \u001b[0mtry_to_parse_csv1\u001b[0m\u001b[1;33m(\u001b[0m\u001b[0mfcsv\u001b[0m\u001b[1;33m.\u001b[0m\u001b[0mtables\u001b[0m\u001b[1;33m)\u001b[0m\u001b[1;33m\u001b[0m\u001b[0m\n\u001b[0;32m     43\u001b[0m     \u001b[1;32melif\u001b[0m \u001b[0minferred_structure\u001b[0m \u001b[1;33m==\u001b[0m \u001b[1;36m2\u001b[0m\u001b[1;33m:\u001b[0m\u001b[1;33m\u001b[0m\u001b[0m\n\u001b[1;32m---> 44\u001b[1;33m         \u001b[1;32mreturn\u001b[0m \u001b[0mtry_to_parse_csv2\u001b[0m\u001b[1;33m(\u001b[0m\u001b[0mfcsv\u001b[0m\u001b[1;33m.\u001b[0m\u001b[0mtables\u001b[0m\u001b[1;33m)\u001b[0m\u001b[1;33m\u001b[0m\u001b[0m\n\u001b[0m\u001b[0;32m     45\u001b[0m \u001b[1;33m\u001b[0m\u001b[0m\n\u001b[0;32m     46\u001b[0m     \u001b[1;32mraise\u001b[0m \u001b[0mException\u001b[0m\u001b[1;33m(\u001b[0m\u001b[1;34m\"Not sure how to parse this table.\"\u001b[0m\u001b[1;33m)\u001b[0m\u001b[1;33m\u001b[0m\u001b[0m\n",
      "\u001b[1;32mE:\\Local\\Projects\\Misc\\TI_intergrity_watch\\cleaner\\csv_cleaner.py\u001b[0m in \u001b[0;36mtry_to_parse_csv2\u001b[1;34m(tables)\u001b[0m\n\u001b[0;32m    130\u001b[0m                       inplace=True)\n\u001b[0;32m    131\u001b[0m \u001b[1;33m\u001b[0m\u001b[0m\n\u001b[1;32m--> 132\u001b[1;33m             \u001b[0mdf\u001b[0m\u001b[1;33m[\u001b[0m\u001b[1;34m\"minister\"\u001b[0m\u001b[1;33m]\u001b[0m \u001b[1;33m=\u001b[0m \u001b[0mget_minister\u001b[0m\u001b[1;33m(\u001b[0m\u001b[0mtable\u001b[0m\u001b[1;33m.\u001b[0m\u001b[0mmeta_data\u001b[0m\u001b[1;33m)\u001b[0m\u001b[1;33m\u001b[0m\u001b[0m\n\u001b[0m\u001b[0;32m    133\u001b[0m \u001b[1;33m\u001b[0m\u001b[0m\n\u001b[0;32m    134\u001b[0m             \u001b[0mfill_in_blanks\u001b[0m\u001b[1;33m(\u001b[0m\u001b[0mdf\u001b[0m\u001b[1;33m)\u001b[0m\u001b[1;33m\u001b[0m\u001b[0m\n",
      "\u001b[1;32mE:\\Local\\Projects\\Misc\\TI_intergrity_watch\\cleaner\\csv_cleaner.py\u001b[0m in \u001b[0;36mget_minister\u001b[1;34m(lst)\u001b[0m\n\u001b[0;32m    154\u001b[0m                       if re.match(minister_pattern2, e)]\n\u001b[0;32m    155\u001b[0m \u001b[1;33m\u001b[0m\u001b[0m\n\u001b[1;32m--> 156\u001b[1;33m     \u001b[1;32massert\u001b[0m\u001b[1;33m(\u001b[0m\u001b[0mlen\u001b[0m\u001b[1;33m(\u001b[0m\u001b[0mminister_guess\u001b[0m\u001b[1;33m)\u001b[0m \u001b[1;33m==\u001b[0m \u001b[1;36m1\u001b[0m\u001b[1;33m)\u001b[0m\u001b[1;33m\u001b[0m\u001b[0m\n\u001b[0m\u001b[0;32m    157\u001b[0m \u001b[1;33m\u001b[0m\u001b[0m\n\u001b[0;32m    158\u001b[0m     \u001b[1;32mreturn\u001b[0m \u001b[0mminister_guess\u001b[0m\u001b[1;33m[\u001b[0m\u001b[1;36m0\u001b[0m\u001b[1;33m]\u001b[0m\u001b[1;33m\u001b[0m\u001b[0m\n",
      "\u001b[1;31mAssertionError\u001b[0m: "
     ]
    }
   ],
   "source": [
    "csv_cleaner.try_to_parse_csv(raw_text=csv_tables[24])"
   ]
  },
  {
   "cell_type": "code",
   "execution_count": 108,
   "metadata": {
    "collapsed": false
   },
   "outputs": [
    {
     "name": "stdout",
     "output_type": "stream",
     "text": [
      "Passed: 24\n",
      "Passed: 25\n",
      "Passed: 26\n",
      "Passed: 27\n",
      "Passed: 28\n",
      "Passed: 29\n"
     ]
    },
    {
     "data": {
      "text/plain": [
       "6"
      ]
     },
     "execution_count": 108,
     "metadata": {},
     "output_type": "execute_result"
    }
   ],
   "source": [
    "success = []\n",
    "for n, table in enumerate(csv_tables):\n",
    "    try:\n",
    "        success.append(csv_cleaner.try_to_parse_csv(raw_text=table))\n",
    "        print \"Passed: \" + str(n)\n",
    "    except:\n",
    "        pass\n",
    "len(success)"
   ]
  },
  {
   "cell_type": "code",
   "execution_count": null,
   "metadata": {
    "collapsed": true
   },
   "outputs": [],
   "source": []
  }
 ],
 "metadata": {
  "kernelspec": {
   "display_name": "Python 2",
   "language": "python",
   "name": "python2"
  },
  "language_info": {
   "codemirror_mode": {
    "name": "ipython",
    "version": 2
   },
   "file_extension": ".py",
   "mimetype": "text/x-python",
   "name": "python",
   "nbconvert_exporter": "python",
   "pygments_lexer": "ipython2",
   "version": "2.7.10"
  }
 },
 "nbformat": 4,
 "nbformat_minor": 0
}
