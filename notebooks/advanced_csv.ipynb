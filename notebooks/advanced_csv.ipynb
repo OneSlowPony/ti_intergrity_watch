{
 "cells": [
  {
   "cell_type": "code",
   "execution_count": 1,
   "metadata": {
    "collapsed": true
   },
   "outputs": [],
   "source": [
    "import numpy as np\n",
    "import pandas as pd\n",
    "import matplotlib.pyplot as plt\n",
    "%matplotlib inline\n",
    "\n",
    "import urllib\n",
    "import os\n",
    "import sys\n",
    "import random\n",
    "import glob\n",
    "import re\n",
    "import time\n",
    "\n",
    "%load_ext autoreload\n",
    "%autoreload 2\n",
    "\n",
    "sys.path.append(\"../\")\n",
    "from cleaner import *"
   ]
  },
  {
   "cell_type": "code",
   "execution_count": 2,
   "metadata": {
    "collapsed": true
   },
   "outputs": [],
   "source": [
    "working = pd.read_excel(\"../data/Ministerial meetings - working file-1.xlsx\", \"Departments\")"
   ]
  },
  {
   "cell_type": "code",
   "execution_count": 3,
   "metadata": {
    "collapsed": false
   },
   "outputs": [
    {
     "name": "stdout",
     "output_type": "stream",
     "text": [
      "https://www.gov.uk/government/uploads/system/uploads/attachment_data/file/468553/Edward_Davey_-_meetings_with_external_organisations_-_July_-_Sept_2014.doc.csv\n"
     ]
    },
    {
     "data": {
      "text/plain": [
       "'../data/raw/Edward_Davey_-_meetings_with_external_organisations_-_July_-_Sept_2014.doc.csv'"
      ]
     },
     "execution_count": 3,
     "metadata": {},
     "output_type": "execute_result"
    }
   ],
   "source": [
    "test_csv = working.Link.values[48]\n",
    "print(test_csv)\n",
    "f = test_csv.split(\"/\")[-1]\n",
    "raw = \"../data/raw/\" + f\n",
    "raw"
   ]
  },
  {
   "cell_type": "code",
   "execution_count": 4,
   "metadata": {
    "collapsed": true
   },
   "outputs": [],
   "source": [
    "import messytables"
   ]
  },
  {
   "cell_type": "code",
   "execution_count": 5,
   "metadata": {
    "collapsed": true
   },
   "outputs": [],
   "source": [
    "table = messytables.CSVTableSet(open(raw, \"rb\"))"
   ]
  },
  {
   "cell_type": "code",
   "execution_count": 11,
   "metadata": {
    "collapsed": false
   },
   "outputs": [],
   "source": [
    "row_set = table.tables[0]"
   ]
  },
  {
   "cell_type": "code",
   "execution_count": 15,
   "metadata": {
    "collapsed": false
   },
   "outputs": [],
   "source": [
    "offset, headers = messytables.headers_guess(row_set.sample)"
   ]
  },
  {
   "cell_type": "code",
   "execution_count": 16,
   "metadata": {
    "collapsed": false
   },
   "outputs": [
    {
     "data": {
      "text/plain": [
       "8"
      ]
     },
     "execution_count": 16,
     "metadata": {},
     "output_type": "execute_result"
    }
   ],
   "source": [
    "offset"
   ]
  },
  {
   "cell_type": "code",
   "execution_count": 17,
   "metadata": {
    "collapsed": false
   },
   "outputs": [
    {
     "data": {
      "text/plain": [
       "['Date of Meeting ',\n",
       " '',\n",
       " 'Name of External Organisation',\n",
       " '',\n",
       " 'Purpose of Meeting  ']"
      ]
     },
     "execution_count": 17,
     "metadata": {},
     "output_type": "execute_result"
    }
   ],
   "source": [
    "headers"
   ]
  },
  {
   "cell_type": "code",
   "execution_count": 19,
   "metadata": {
    "collapsed": false
   },
   "outputs": [],
   "source": [
    "row_set.register_processor(messytables.headers_processor(headers))"
   ]
  },
  {
   "cell_type": "code",
   "execution_count": 20,
   "metadata": {
    "collapsed": true
   },
   "outputs": [],
   "source": [
    "row_set.register_processor(messytables.offset_processor(offset + 1))"
   ]
  },
  {
   "cell_type": "code",
   "execution_count": 22,
   "metadata": {
    "collapsed": false
   },
   "outputs": [
    {
     "name": "stdout",
     "output_type": "stream",
     "text": [
      "[<Cell('Date of Meeting '=String:'Jul-2014'>, <Cell('column_1'=String:'CS Wind and Siemens'>, <Cell('Name of External Organisation'=String:''>, <Cell('column_3'=String:'To discuss energy and climate change'>, <Cell('Purpose of Meeting  '=String:''>]\n",
      "[<Cell('Date of Meeting '=String:'Jul-2014'>, <Cell('column_1'=String:'EDF and NNB'>, <Cell('Name of External Organisation'=String:''>, <Cell('column_3'=String:'To discuss energy and climate change'>, <Cell('Purpose of Meeting  '=String:''>]\n",
      "[<Cell('Date of Meeting '=String:'Jul-2014'>, <Cell('column_1'=String:'Scottish Power'>, <Cell('Name of External Organisation'=String:''>, <Cell('column_3'=String:'To discuss energy and climate change'>, <Cell('Purpose of Meeting  '=String:''>]\n",
      "[<Cell('Date of Meeting '=String:'Sep-2014'>, <Cell('column_1'=String:'Town and Country Planning Association'>, <Cell('Name of External Organisation'=String:''>, <Cell('column_3'=String:'To discuss energy and climate change'>, <Cell('Purpose of Meeting  '=String:''>]\n",
      "[<Cell('Date of Meeting '=String:''>, <Cell('column_1'=String:'Low Carbon Hub'>, <Cell('Name of External Organisation'=String:''>, <Cell('column_3'=String:''>, <Cell('Purpose of Meeting  '=String:''>]\n",
      "[<Cell('Date of Meeting '=String:''>, <Cell('column_1'=String:'Centre for Sustainable Energy'>, <Cell('Name of External Organisation'=String:''>, <Cell('column_3'=String:''>, <Cell('Purpose of Meeting  '=String:''>]\n",
      "[<Cell('Date of Meeting '=String:'Sep-2014'>, <Cell('column_1'=String:'SHELL'>, <Cell('Name of External Organisation'=String:''>, <Cell('column_3'=String:'To discuss energy and climate change'>, <Cell('Purpose of Meeting  '=String:''>]\n",
      "[<Cell('Date of Meeting '=String:'Sep-2014'>, <Cell('column_1'=String:'First Utility'>, <Cell('Name of External Organisation'=String:''>, <Cell('column_3'=String:'To discuss energy and climate change'>, <Cell('Purpose of Meeting  '=String:''>]\n",
      "[<Cell('Date of Meeting '=String:'Sep-2014'>, <Cell('column_1'=String:'EXELON'>, <Cell('Name of External Organisation'=String:''>, <Cell('column_3'=String:'To discuss energy and climate change'>, <Cell('Purpose of Meeting  '=String:''>]\n",
      "[<Cell('Date of Meeting '=String:''>, <Cell('column_1'=String:''>, <Cell('Name of External Organisation'=String:''>, <Cell('column_3'=String:''>, <Cell('Purpose of Meeting  '=String:''>]\n",
      "[<Cell('Date of Meeting '=String:'Sep-2014'>, <Cell('column_1'=String:'EON'>, <Cell('Name of External Organisation'=String:''>, <Cell('column_3'=String:'To discuss energy and climate change'>, <Cell('Purpose of Meeting  '=String:''>]\n",
      "[<Cell('Date of Meeting '=String:'Sep-2014'>, <Cell('column_1'=String:'China National Nuclear Corporation'>, <Cell('Name of External Organisation'=String:''>, <Cell('column_3'=String:'To discuss energy and climate change'>, <Cell('Purpose of Meeting  '=String:''>]\n",
      "[<Cell('Date of Meeting '=String:'Sep-2014'>, <Cell('column_1'=String:'Industrial and Commercial Bank of China'>, <Cell('Name of External Organisation'=String:''>, <Cell('column_3'=String:'To discuss energy and climate change'>, <Cell('Purpose of Meeting  '=String:''>]\n",
      "[<Cell('Date of Meeting '=String:'Sep-2014'>, <Cell('column_1'=String:'OVO'>, <Cell('Name of External Organisation'=String:''>, <Cell('column_3'=String:'To discuss energy and climate change'>, <Cell('Purpose of Meeting  '=String:''>]\n",
      "[<Cell('Date of Meeting '=String:'Sep-2014'>, <Cell('column_1'=String:'Christian Aid'>, <Cell('Name of External Organisation'=String:''>, <Cell('column_3'=String:'To discuss energy and climate change'>, <Cell('Purpose of Meeting  '=String:''>]\n",
      "[<Cell('Date of Meeting '=String:''>, <Cell('column_1'=String:'European Climate Foundation'>, <Cell('Name of External Organisation'=String:''>, <Cell('column_3'=String:''>, <Cell('Purpose of Meeting  '=String:''>]\n",
      "[<Cell('Date of Meeting '=String:''>, <Cell('column_1'=String:'WWF'>, <Cell('Name of External Organisation'=String:''>, <Cell('column_3'=String:''>, <Cell('Purpose of Meeting  '=String:''>]\n",
      "[<Cell('Date of Meeting '=String:''>, <Cell('column_1'=String:'RSPB'>, <Cell('Name of External Organisation'=String:''>, <Cell('column_3'=String:''>, <Cell('Purpose of Meeting  '=String:''>]\n",
      "[<Cell('Date of Meeting '=String:''>, <Cell('column_1'=String:'UNICEF'>, <Cell('Name of External Organisation'=String:''>, <Cell('column_3'=String:''>, <Cell('Purpose of Meeting  '=String:''>]\n",
      "[<Cell('Date of Meeting '=String:''>, <Cell('column_1'=String:'CAFOD'>, <Cell('Name of External Organisation'=String:''>, <Cell('column_3'=String:''>, <Cell('Purpose of Meeting  '=String:''>]\n",
      "[<Cell('Date of Meeting '=String:''>, <Cell('column_1'=String:'Green Alliance'>, <Cell('Name of External Organisation'=String:''>, <Cell('column_3'=String:''>, <Cell('Purpose of Meeting  '=String:''>]\n",
      "[<Cell('Date of Meeting '=String:''>, <Cell('column_1'=String:'AVAAZ'>, <Cell('Name of External Organisation'=String:''>, <Cell('column_3'=String:''>, <Cell('Purpose of Meeting  '=String:''>]\n",
      "[<Cell('Date of Meeting '=String:''>, <Cell('column_1'=String:'Friends of the Earth'>, <Cell('Name of External Organisation'=String:''>, <Cell('column_3'=String:''>, <Cell('Purpose of Meeting  '=String:''>]\n",
      "[<Cell('Date of Meeting '=String:''>, <Cell('column_1'=String:'Greenpeace'>, <Cell('Name of External Organisation'=String:''>, <Cell('column_3'=String:''>, <Cell('Purpose of Meeting  '=String:''>]\n",
      "[<Cell('Date of Meeting '=String:''>, <Cell('column_1'=String:'Oxfam'>, <Cell('Name of External Organisation'=String:''>, <Cell('column_3'=String:''>, <Cell('Purpose of Meeting  '=String:''>]\n",
      "[<Cell('Date of Meeting '=String:''>, <Cell('column_1'=String:'Tearfund'>, <Cell('Name of External Organisation'=String:''>, <Cell('column_3'=String:''>, <Cell('Purpose of Meeting  '=String:''>]\n",
      "[<Cell('Date of Meeting '=String:''>, <Cell('column_1'=String:''>, <Cell('Name of External Organisation'=String:''>, <Cell('column_3'=String:''>, <Cell('Purpose of Meeting  '=String:''>]\n",
      "[<Cell('Date of Meeting '=String:''>, <Cell('column_1'=String:''>, <Cell('Name of External Organisation'=String:''>, <Cell('column_3'=String:''>, <Cell('Purpose of Meeting  '=String:''>]\n",
      "[<Cell('Date of Meeting '=String:''>, <Cell('column_1'=String:''>, <Cell('Name of External Organisation'=String:''>, <Cell('column_3'=String:''>, <Cell('Purpose of Meeting  '=String:''>]\n",
      "[<Cell('Date of Meeting '=String:''>, <Cell('column_1'=String:''>, <Cell('Name of External Organisation'=String:''>, <Cell('column_3'=String:''>, <Cell('Purpose of Meeting  '=String:''>]\n",
      "[<Cell('Date of Meeting '=String:''>, <Cell('column_1'=String:''>, <Cell('Name of External Organisation'=String:''>, <Cell('column_3'=String:''>, <Cell('Purpose of Meeting  '=String:''>]\n",
      "[<Cell('Date of Meeting '=String:'[1] Does not normally include meetings with Government bodies such as other Government Departments, members of the Royal Household, NDPBs, Non-Ministerial Departments, Agencies, Government reviews and representatives of Parliament, devolved or foreign governments.. Visits, attendance at seminars, conferences, receptions, media, interviews etc would not normally be classed as meetings.'>, <Cell('column_1'=String:''>, <Cell('Name of External Organisation'=String:''>, <Cell('column_3'=String:''>, <Cell('Purpose of Meeting  '=String:''>]\n"
     ]
    }
   ],
   "source": [
    "for row in row_set:\n",
    "    print(row)"
   ]
  },
  {
   "cell_type": "code",
   "execution_count": null,
   "metadata": {
    "collapsed": true
   },
   "outputs": [],
   "source": []
  }
 ],
 "metadata": {
  "kernelspec": {
   "display_name": "Python 3",
   "language": "python",
   "name": "python3"
  },
  "language_info": {
   "codemirror_mode": {
    "name": "ipython",
    "version": 3
   },
   "file_extension": ".py",
   "mimetype": "text/x-python",
   "name": "python",
   "nbconvert_exporter": "python",
   "pygments_lexer": "ipython3",
   "version": "3.4.3"
  }
 },
 "nbformat": 4,
 "nbformat_minor": 0
}
