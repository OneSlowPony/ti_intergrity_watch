{
 "cells": [
  {
   "cell_type": "code",
   "execution_count": 1,
   "metadata": {
    "collapsed": true
   },
   "outputs": [],
   "source": [
    "import numpy as np\n",
    "import pandas as pd\n",
    "import matplotlib.pyplot as plt\n",
    "%matplotlib inline\n",
    "\n",
    "import urllib\n",
    "import os\n",
    "import sys\n",
    "import random\n",
    "import glob\n",
    "import re\n",
    "import time\n",
    "from io import StringIO\n",
    "import bs4\n",
    "\n",
    "%load_ext autoreload\n",
    "%autoreload 2\n",
    "\n",
    "sys.path.append(\"../\")\n",
    "from cleaner import *"
   ]
  },
  {
   "cell_type": "code",
   "execution_count": 2,
   "metadata": {
    "collapsed": false
   },
   "outputs": [],
   "source": [
    "docs = glob.glob(\"../data/raw/*.pdf\")"
   ]
  },
  {
   "cell_type": "code",
   "execution_count": 3,
   "metadata": {
    "collapsed": false
   },
   "outputs": [
    {
     "data": {
      "text/plain": [
       "'../data/raw/transparency_ministerial_January-March_2015.pdf'"
      ]
     },
     "execution_count": 3,
     "metadata": {},
     "output_type": "execute_result"
    }
   ],
   "source": [
    "t = docs[0]\n",
    "t"
   ]
  },
  {
   "cell_type": "code",
   "execution_count": 4,
   "metadata": {
    "collapsed": false
   },
   "outputs": [],
   "source": [
    "\"\"\"\n",
    "See:\n",
    "- https://euske.github.io/pdfminer/programming.html\n",
    "- http://denis.papathanasiou.org/posts/2010.08.04.post.html\n",
    "\"\"\"\n",
    "\n",
    "import pdfminer\n",
    "\n",
    "from pdfminer.pdfparser import PDFParser\n",
    "from pdfminer.pdfdocument import PDFDocument\n",
    "from pdfminer.pdfpage import PDFPage\n",
    "from pdfminer.pdfpage import PDFTextExtractionNotAllowed\n",
    "from pdfminer.pdfinterp import PDFResourceManager\n",
    "from pdfminer.pdfinterp import PDFPageInterpreter\n",
    "from pdfminer.pdfdevice import PDFDevice\n",
    "\n",
    "from pdfminer.layout import LAParams\n",
    "from pdfminer.converter import PDFPageAggregator\n",
    "\n",
    "laparams = LAParams()\n",
    "\n",
    "fp = open(t, 'rb')\n",
    "parser = PDFParser(fp)\n",
    "document = PDFDocument(parser)\n",
    "\n",
    "if not document.is_extractable:\n",
    "    raise PDFTextExtractionNotAllowed\n",
    "\n",
    "rsrcmgr = PDFResourceManager()\n",
    "device = PDFPageAggregator(rsrcmgr, laparams=laparams)\n",
    "interpreter = PDFPageInterpreter(rsrcmgr, device)\n",
    "\n",
    "layouts = []\n",
    "for page in PDFPage.create_pages(document):\n",
    "    interpreter.process_page(page)\n",
    "    layouts.append(device.get_result())"
   ]
  },
  {
   "cell_type": "code",
   "execution_count": 56,
   "metadata": {
    "collapsed": false,
    "scrolled": true
   },
   "outputs": [
    {
     "name": "stdout",
     "output_type": "stream",
     "text": [
      "rects: 370\n",
      "texts: 27\n",
      "other: 0\n"
     ]
    }
   ],
   "source": [
    "l = layouts[0]\n",
    "\n",
    "texts = []\n",
    "rects = []\n",
    "other = []\n",
    "\n",
    "for n, e in enumerate(l):\n",
    "    if isinstance(e, pdfminer.layout.LTTextBoxHorizontal):\n",
    "        texts.append(e)\n",
    "    elif isinstance(e, pdfminer.layout.LTRect):\n",
    "        rects.append(e)\n",
    "    else:\n",
    "        other.append(e)\n",
    "        \n",
    "print(\"rects: {}\".format(len(rects)))\n",
    "print(\"texts: {}\".format(len(texts)))\n",
    "print(\"other: {}\".format(len(other)))"
   ]
  },
  {
   "cell_type": "code",
   "execution_count": 57,
   "metadata": {
    "collapsed": false
   },
   "outputs": [],
   "source": [
    "r = rects[0]"
   ]
  },
  {
   "cell_type": "code",
   "execution_count": 58,
   "metadata": {
    "collapsed": false
   },
   "outputs": [
    {
     "data": {
      "text/plain": [
       "(66.384, 308.69, 511.80001, 779.88)"
      ]
     },
     "execution_count": 58,
     "metadata": {},
     "output_type": "execute_result"
    }
   ],
   "source": [
    "def get_bounds(rects):\n",
    "    xmin = min(r.bbox[0] for r in rects)\n",
    "    xmax = max(r.bbox[2] for r in rects)\n",
    "    ymin = min(r.bbox[1] for r in rects)\n",
    "    ymax = max(r.bbox[3] for r in rects)\n",
    "    return (xmin, ymin, xmax,ymax)\n",
    "\n",
    "get_bounds(rects)"
   ]
  },
  {
   "cell_type": "code",
   "execution_count": 59,
   "metadata": {
    "collapsed": false
   },
   "outputs": [],
   "source": [
    "def draw_rect(rect, ax, color=\"black\"):\n",
    "    draw_rect_bbox(rect.bbox, ax, color)\n",
    "    \n",
    "def draw_rect_bbox((x0,y0,x1,y1), ax, color):\n",
    "    ax.add_patch( \n",
    "        patches.Rectangle(\n",
    "            (x0, y0),\n",
    "            x1 - x0,\n",
    "            y1 - y0,\n",
    "            fill=False,\n",
    "            color=color\n",
    "        )    \n",
    "    )\n",
    "    \n",
    "TEXT_ELEMENTS = [\n",
    "    pdfminer.layout.LTTextBox,\n",
    "    pdfminer.layout.LTTextBoxHorizontal,\n",
    "    pdfminer.layout.LTTextLine,\n",
    "    pdfminer.layout.LTTextLineHorizontal\n",
    "]\n",
    "    \n",
    "def flatten(lst):\n",
    "    return [subelem for elem in lst for subelem in elem]\n",
    "\n",
    "def extract_characters(element):\n",
    "    if isinstance(element, pdfminer.layout.LTChar):\n",
    "        return [element]\n",
    "    \n",
    "    if any(isinstance(element, i) for i in TEXT_ELEMENTS):\n",
    "        elements = []\n",
    "        for e in element:\n",
    "            elements += extract_characters(e)\n",
    "        return elements\n",
    "    \n",
    "    if isinstance(element, list):\n",
    "        return flatten([extract_characters(l) for l in element])\n",
    "    \n",
    "    return []\n",
    "\n",
    "characters = extract_characters(texts)"
   ]
  },
  {
   "cell_type": "code",
   "execution_count": 60,
   "metadata": {
    "collapsed": false
   },
   "outputs": [
    {
     "data": {
      "image/png": "[encoded data removed]",
      "text/plain": [
       "<matplotlib.figure.Figure at 0x7fc157716e10>"
      ]
     },
     "metadata": {},
     "output_type": "display_data"
    }
   ],
   "source": [
    "from matplotlib import patches\n",
    "\n",
    "fig, ax = plt.subplots(figsize = (10,15))\n",
    "\n",
    "for rect in rects:\n",
    "    draw_rect(rect, ax)\n",
    "    \n",
    "for c in characters:\n",
    "    draw_rect(c, ax, \"red\")\n",
    "\n",
    "plt.xlim(0,600)\n",
    "plt.ylim(0,800)\n",
    "plt.show()"
   ]
  },
  {
   "cell_type": "code",
   "execution_count": 61,
   "metadata": {
    "collapsed": false
   },
   "outputs": [],
   "source": [
    "record = {k:[] for k in characters}\n",
    "\n",
    "def check_for_overlap(char, rect):\n",
    "    x0,y0,x1,y1 = char.bbox\n",
    "    rx0, ry0, rx1, ry1 = rect.bbox\n",
    "    return (x1 >= rx0 and \n",
    "            x1 <= rx1 and\n",
    "            y1 >= ry0 and\n",
    "            y1 <= ry1)\n",
    "\n",
    "for char in characters:\n",
    "    for rect in rects:\n",
    "        if check_for_overlap(char, rect):\n",
    "            record[char].append(rect)"
   ]
  },
  {
   "cell_type": "code",
   "execution_count": 62,
   "metadata": {
    "collapsed": false,
    "scrolled": true
   },
   "outputs": [
    {
     "data": {
      "text/plain": [
       "589"
      ]
     },
     "execution_count": 62,
     "metadata": {},
     "output_type": "execute_result"
    }
   ],
   "source": [
    "len([len(v) for v in record.values() if len(v) > 0])"
   ]
  },
  {
   "cell_type": "code",
   "execution_count": 63,
   "metadata": {
    "collapsed": false
   },
   "outputs": [
    {
     "data": {
      "image/png": "[encoded data removed]",
      "text/plain": [
       "<matplotlib.figure.Figure at 0x7fc15a3dc550>"
      ]
     },
     "metadata": {},
     "output_type": "display_data"
    }
   ],
   "source": [
    "from matplotlib import patches\n",
    "\n",
    "fig, ax = plt.subplots(figsize = (10,15))\n",
    "\n",
    "for rect in rects:\n",
    "    draw_rect(rect, ax)\n",
    "    \n",
    "for c in characters:\n",
    "    draw_rect(c, ax, \"red\")\n",
    "    \n",
    "for c,v in record.items():\n",
    "    if len(v) > 0:\n",
    "        draw_rect(c, ax, \"green\")\n",
    "\n",
    "plt.xlim(0,600)\n",
    "plt.ylim(0,800)\n",
    "plt.show()"
   ]
  },
  {
   "cell_type": "code",
   "execution_count": 64,
   "metadata": {
    "collapsed": false
   },
   "outputs": [
    {
     "data": {
      "text/plain": [
       "(array([ 339.,    0.,   24.,    0.,    0.,    0.,    0.,    0.,    0.,    7.]),\n",
       " array([  2.30390400e-01,   6.00362487e+02,   1.20049458e+03,\n",
       "          1.80062668e+03,   2.40075878e+03,   3.00089088e+03,\n",
       "          3.60102297e+03,   4.20115507e+03,   4.80128717e+03,\n",
       "          5.40141926e+03,   6.00155136e+03]),\n",
       " <a list of 10 Patch objects>)"
      ]
     },
     "execution_count": 64,
     "metadata": {},
     "output_type": "execute_result"
    },
    {
     "data": {
      "image/png": "[encoded data removed]",
      "text/plain": [
       "<matplotlib.figure.Figure at 0x7fc159ae8910>"
      ]
     },
     "metadata": {},
     "output_type": "display_data"
    }
   ],
   "source": [
    "def width(rect):\n",
    "    x0,y0,x1,y1 = rect.bbox\n",
    "    return min(x1-x0, y1-y0)\n",
    "\n",
    "def length(rect):\n",
    "    x0,y0,x1,y1 = rect.bbox\n",
    "    return max(x1-x0, y1-y0)\n",
    "\n",
    "def area(rect):\n",
    "    x0,y0,x1,y1 = rect.bbox\n",
    "    return (x1-x0) * (y1-y0)\n",
    "\n",
    "plt.hist([area(r) for r in rects], bins=10)"
   ]
  },
  {
   "cell_type": "code",
   "execution_count": 65,
   "metadata": {
    "collapsed": false
   },
   "outputs": [
    {
     "data": {
      "image/png": "[encoded data removed]",
      "text/plain": [
       "<matplotlib.figure.Figure at 0x7fc1566d1f50>"
      ]
     },
     "metadata": {},
     "output_type": "display_data"
    }
   ],
   "source": [
    "from matplotlib import patches\n",
    "\n",
    "fig, ax = plt.subplots(figsize = (10,15))\n",
    "\n",
    "for rect in rects:\n",
    "    c = \"green\" if width(rect) < 2 else \"black\"\n",
    "    draw_rect(rect, ax, c)\n",
    "    \n",
    "for c in characters:\n",
    "    draw_rect(c, ax, \"red\")\n",
    "\n",
    "plt.xlim(0,600)\n",
    "plt.ylim(0,800)\n",
    "plt.show()"
   ]
  },
  {
   "cell_type": "code",
   "execution_count": 66,
   "metadata": {
    "collapsed": false,
    "scrolled": true
   },
   "outputs": [],
   "source": [
    "def cast_as_line(rect):\n",
    "    x0,y0,x1,y1 = rect.bbox\n",
    "    \n",
    "    if x1-x0 > y1-y0:\n",
    "        return (x0, y0, x1, y0, \"H\")\n",
    "    else:\n",
    "        return (x0, y0, x0, y1, \"V\")"
   ]
  },
  {
   "cell_type": "code",
   "execution_count": 67,
   "metadata": {
    "collapsed": false,
    "scrolled": true
   },
   "outputs": [],
   "source": [
    "lines = [cast_as_line(r) for r in rects \n",
    "         if width(r) < 2\n",
    "         and area(r) > 1]"
   ]
  },
  {
   "cell_type": "code",
   "execution_count": 68,
   "metadata": {
    "collapsed": false
   },
   "outputs": [
    {
     "data": {
      "image/png": "[encoded data removed]",
      "text/plain": [
       "<matplotlib.figure.Figure at 0x7fc159bd7b10>"
      ]
     },
     "metadata": {},
     "output_type": "display_data"
    }
   ],
   "source": [
    "from matplotlib import patches\n",
    "\n",
    "fig, ax = plt.subplots(figsize = (10,15))\n",
    "\n",
    "for l in lines:\n",
    "    x0,y0,x1,y1,_ = l\n",
    "    plt.plot([x0, x1], [y0, y1], 'k-')\n",
    "    \n",
    "for c in characters:\n",
    "    draw_rect(c, ax, \"red\")\n",
    "\n",
    "plt.xlim(0,600)\n",
    "plt.ylim(0,800)\n",
    "plt.show()"
   ]
  },
  {
   "cell_type": "code",
   "execution_count": 69,
   "metadata": {
    "collapsed": false
   },
   "outputs": [],
   "source": [
    "def does_it_intersect(x, (xmin, xmax)):\n",
    "    return (x <= xmax and x >= xmin)\n",
    "\n",
    "def find_bounding_rectangle((x,y), lines):\n",
    "    \n",
    "    v_intersects = [l for l in lines\n",
    "                    if l[4] == \"V\"\n",
    "                    and does_it_intersect(y, (l[1], l[3]))]\n",
    "    \n",
    "    h_intersects = [l for l in lines\n",
    "                    if l[4] == \"H\"\n",
    "                    and does_it_intersect(x, (l[0], l[2]))]\n",
    "    \n",
    "    if len(v_intersects) < 2 or len(h_intersects) < 2:\n",
    "        return None\n",
    "    \n",
    "    v_left = [v[0] for v in v_intersects\n",
    "              if v[0] < x]\n",
    "    \n",
    "    v_right = [v[0] for v in v_intersects\n",
    "              if v[0] > x]\n",
    "    \n",
    "    if len(v_left) == 0 or len(v_right) == 0:\n",
    "        return None\n",
    "    \n",
    "    x0,x1 = max(v_left), min(v_right)\n",
    "    \n",
    "    h_down = [h[1] for h in h_intersects\n",
    "              if h[1] < y]\n",
    "    \n",
    "    h_up = [h[1] for h in h_intersects\n",
    "              if h[1] > y]\n",
    "    \n",
    "    if len(h_down) == 0 or len(h_up) == 0:\n",
    "        return None\n",
    "    \n",
    "    y0,y1 = max(h_down), min(h_up)\n",
    "    \n",
    "    return (x0,y0,x1,y1)  \n",
    "    \n",
    "    "
   ]
  },
  {
   "cell_type": "code",
   "execution_count": 70,
   "metadata": {
    "collapsed": false
   },
   "outputs": [],
   "source": [
    "find_bounding_rectangle((100,200), lines)"
   ]
  },
  {
   "cell_type": "code",
   "execution_count": 71,
   "metadata": {
    "collapsed": false
   },
   "outputs": [
    {
     "data": {
      "image/png": "[encoded data removed]",
      "text/plain": [
       "<matplotlib.figure.Figure at 0x7fc15b394d10>"
      ]
     },
     "metadata": {},
     "output_type": "display_data"
    }
   ],
   "source": [
    "from matplotlib import patches\n",
    "\n",
    "fig, ax = plt.subplots(figsize = (10,15))\n",
    "\n",
    "for l in lines:\n",
    "    x0,y0,x1,y1,_ = l\n",
    "    plt.plot([x0, x1], [y0, y1], 'k--')\n",
    "    \n",
    "draw_rect_bbox(find_bounding_rectangle((250,370), lines), ax, \"blue\")\n",
    "    \n",
    "for c in characters:\n",
    "    draw_rect(c, ax, \"red\")\n",
    "\n",
    "plt.xlim(0,600)\n",
    "plt.ylim(0,800)\n",
    "plt.show()"
   ]
  },
  {
   "cell_type": "code",
   "execution_count": 126,
   "metadata": {
    "collapsed": true
   },
   "outputs": [],
   "source": [
    "record = {}\n",
    "no_match = []\n",
    "\n",
    "for c in characters:\n",
    "    bbox = find_bounding_rectangle((c.bbox[2], c.bbox[3]), lines)\n",
    "    \n",
    "    if bbox is None:\n",
    "        no_match.append(c)\n",
    "        continue\n",
    "        \n",
    "    if bbox in record.keys():\n",
    "        record[bbox].append(c)\n",
    "        continue\n",
    "        \n",
    "    record[bbox] = [c]\n",
    "    \n",
    "for x in range(100,500,50):\n",
    "    for y in range(50,800,10):\n",
    "        bbox = find_bounding_rectangle((x,y), lines)\n",
    "        \n",
    "        if bbox is None:\n",
    "            continue\n",
    "        \n",
    "        if bbox in record.keys():\n",
    "            continue\n",
    "\n",
    "        record[bbox] = []\n",
    "        "
   ]
  },
  {
   "cell_type": "code",
   "execution_count": 127,
   "metadata": {
    "collapsed": false
   },
   "outputs": [
    {
     "data": {
      "image/png": "[encoded data removed]",
      "text/plain": [
       "<matplotlib.figure.Figure at 0x7fc1572199d0>"
      ]
     },
     "metadata": {},
     "output_type": "display_data"
    }
   ],
   "source": [
    "from matplotlib import patches\n",
    "\n",
    "fig, ax = plt.subplots(figsize = (10,15))\n",
    "\n",
    "   \n",
    "for r in record.keys():\n",
    "    #draw_rect_bbox(r, ax, \"g\")\n",
    "    pass\n",
    "       \n",
    "for c in characters:\n",
    "    if c in no_match:\n",
    "        draw_rect(c, ax, \"red\")\n",
    "    else:\n",
    "        draw_rect(c, ax, \"blue\")\n",
    "        \n",
    "draw_rect_bbox((66.384, 550.87, 511.32, 608.14), ax, \"black\")\n",
    "\n",
    "plt.xlim(0,600)\n",
    "plt.ylim(0,800)\n",
    "plt.show()"
   ]
  },
  {
   "cell_type": "code",
   "execution_count": 128,
   "metadata": {
    "collapsed": true
   },
   "outputs": [],
   "source": [
    "def chars_to_string(chars):\n",
    "    if not chars:\n",
    "        return \"\"\n",
    "    rows = sorted(list(set(c.bbox[1] for c in chars)), reverse=True)\n",
    "    text = \"\"\n",
    "    for row in rows:\n",
    "        sorted_row = sorted([c for c in chars if c.bbox[1] == row], key=lambda c: c.bbox[0])\n",
    "        text += \"\".join(c.get_text() for c in sorted_row)\n",
    "    return text"
   ]
  },
  {
   "cell_type": "code",
   "execution_count": 129,
   "metadata": {
    "collapsed": false
   },
   "outputs": [
    {
     "data": {
      "text/plain": [
       "u'Value (over \\xa3140) '"
      ]
     },
     "execution_count": 129,
     "metadata": {},
     "output_type": "execute_result"
    }
   ],
   "source": [
    "t = random.choice(record.values())\n",
    "chars_to_string(t)"
   ]
  },
  {
   "cell_type": "code",
   "execution_count": 130,
   "metadata": {
    "collapsed": true
   },
   "outputs": [],
   "source": [
    "def boxes_to_table(box_record_dict):\n",
    "    boxes = box_record_dict.keys()\n",
    "    rows = sorted(list(set(b[1] for b in boxes)), reverse=True)\n",
    "    table = []\n",
    "    for row in rows:\n",
    "        sorted_row = sorted([b for b in boxes if b[1] == row], key=lambda b: b[0])\n",
    "        table.append([chars_to_string(box_record_dict[b]) for b in sorted_row])\n",
    "    return table"
   ]
  },
  {
   "cell_type": "code",
   "execution_count": 134,
   "metadata": {
    "collapsed": false
   },
   "outputs": [
    {
     "data": {
      "text/plain": [
       "((66.384, 608.14, 511.32, 665.26),\n",
       " [<LTChar 292.008,651.700,298.680,662.956 matrix=[1.00,0.00,0.00,1.00, (292.01,654.22)] font='ABCDEE+Arial,Bold' adv=6.672 text=u'c'>])"
      ]
     },
     "execution_count": 134,
     "metadata": {},
     "output_type": "execute_result"
    }
   ],
   "source": [
    "t = sorted( [(k,v) for k,v in record.items()], key=lambda x: len(x[1]))[3]\n",
    "t"
   ]
  },
  {
   "cell_type": "code",
   "execution_count": 135,
   "metadata": {
    "collapsed": false,
    "scrolled": true
   },
   "outputs": [
    {
     "name": "stdout",
     "output_type": "stream",
     "text": [
      "(66.384, 650.98, 511.32, 665.26)\n",
      "<LTChar 72.024,651.700,79.356,662.956 matrix=[1.00,0.00,0.00,1.00, (72.02,654.22)] font='ABCDEE+Arial,Bold' adv=7.332 text=u'T'>\n"
     ]
    }
   ],
   "source": [
    "r = sorted( [(k,v) for k,v in record.items()], key=lambda x: x[0][1], reverse=True)[0]\n",
    "print r[0]\n",
    "print r[1][0]"
   ]
  },
  {
   "cell_type": "code",
   "execution_count": 131,
   "metadata": {
    "collapsed": false
   },
   "outputs": [
    {
     "data": {
      "text/plain": [
       "[[u'The Rt Hon George Osborne MP, Chanellor of the Exchequer '],\n",
       " [u'Date gift given ', u'To ', u'Gift ', u'Value (over \\xa3140) '],\n",
       " [u'Nil return ', u' ', u' ', u' '],\n",
       " [u'c'],\n",
       " [u'The Rt Hon Danny Alexander MP, ChiefSecretary to the Treasury '],\n",
       " [u'Date gift given ', u'To ', u'Gift ', u'Value (over \\xa3140) '],\n",
       " [u'Nil return ', u' ', u' ', u' '],\n",
       " [u' '],\n",
       " [u'David Gauke MP, Financial Secretary to the Treasury  '],\n",
       " [u'Date gift given ', u'To ', u'Gift ', u'Value (over \\xa3140) '],\n",
       " [u'Nil return  ', u' ', u' ', u' '],\n",
       " [u'Priti Patel MP, Exchequer Secretary to the Treasury  '],\n",
       " [u'Date gift given ', u'To ', u'Gift ', u'Value (over \\xa3140) '],\n",
       " [u'Nil return  ', u' ', u' ', u' '],\n",
       " [u'Andrea Leadsom MP, Economic Secretary to the Treasury '],\n",
       " [u'Date gift given ', u'To   ', u'Gift ', u'Value (over \\xa3140) '],\n",
       " [u'Nil Return ', u' ', u' ', u' '],\n",
       " [u'Lord Deighton, Commercial Secretary to the Treasury '],\n",
       " [u'Date gift given ', u'To   ', u'Gift ', u'Value (over \\xa3140) '],\n",
       " [u'Nil return ', u' ', u' ', u' ']]"
      ]
     },
     "execution_count": 131,
     "metadata": {},
     "output_type": "execute_result"
    }
   ],
   "source": [
    "boxes_to_table(record)"
   ]
  },
  {
   "cell_type": "code",
   "execution_count": 125,
   "metadata": {
    "collapsed": false
   },
   "outputs": [
    {
     "name": "stdout",
     "output_type": "stream",
     "text": [
      "(66.384, 608.14, 511.32, 665.26)\n"
     ]
    }
   ],
   "source": [
    "x,y = (298.716,652.700)\n",
    "\n",
    "v_intersects = [l for l in lines\n",
    "                if l[4] == \"V\"\n",
    "                and does_it_intersect(y, (l[1], l[3]))]\n",
    "\n",
    "h_intersects = [l for l in lines\n",
    "                if l[4] == \"H\"\n",
    "                and does_it_intersect(x, (l[0], l[2]))]\n",
    "\n",
    "if len(v_intersects) < 2 or len(h_intersects) < 2:\n",
    "    raise Exception(1)\n",
    "\n",
    "v_left = [v[0] for v in v_intersects\n",
    "          if v[0] < x]\n",
    "\n",
    "v_right = [v[0] for v in v_intersects\n",
    "          if v[0] > x]\n",
    "\n",
    "if len(v_left) == 0 or len(v_right) == 0:\n",
    "    raise Exception(1)\n",
    "\n",
    "x0,x1 = max(v_left), min(v_right)\n",
    "\n",
    "h_down = [h[1] for h in h_intersects\n",
    "          if h[1] < y]\n",
    "\n",
    "h_up = [h[1] for h in h_intersects\n",
    "          if h[1] > y]\n",
    "\n",
    "if len(h_down) == 0 or len(h_up) == 0:\n",
    "    raise Exception(1)\n",
    "\n",
    "y0,y1 = max(h_down), min(h_up)\n",
    "\n",
    "print (x0,y0,x1,y1)  \n",
    "# (66.384, 650.98, 511.32, 665.26)\n"
   ]
  },
  {
   "cell_type": "code",
   "execution_count": null,
   "metadata": {
    "collapsed": true
   },
   "outputs": [],
   "source": []
  }
 ],
 "metadata": {
  "kernelspec": {
   "display_name": "Python 2",
   "language": "python",
   "name": "python2"
  },
  "language_info": {
   "codemirror_mode": {
    "name": "ipython",
    "version": 2
   },
   "file_extension": ".py",
   "mimetype": "text/x-python",
   "name": "python",
   "nbconvert_exporter": "python",
   "pygments_lexer": "ipython2",
   "version": "2.7.10"
  }
 },
 "nbformat": 4,
 "nbformat_minor": 0
}
