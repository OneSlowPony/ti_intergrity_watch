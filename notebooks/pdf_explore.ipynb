{
 "cells": [
  {
   "cell_type": "code",
   "execution_count": 1,
   "metadata": {
    "collapsed": true
   },
   "outputs": [],
   "source": [
    "import numpy as np\n",
    "import pandas as pd\n",
    "import matplotlib.pyplot as plt\n",
    "%matplotlib inline\n",
    "\n",
    "import urllib\n",
    "import os\n",
    "import sys\n",
    "import random\n",
    "import glob\n",
    "import re\n",
    "import time\n",
    "from io import StringIO\n",
    "import bs4\n",
    "\n",
    "%load_ext autoreload\n",
    "%autoreload 2\n",
    "\n",
    "sys.path.append(\"../\")\n",
    "from cleaner import *"
   ]
  },
  {
   "cell_type": "code",
   "execution_count": 2,
   "metadata": {
    "collapsed": false
   },
   "outputs": [],
   "source": [
    "docs = glob.glob(\"../data/raw/*.pdf\")"
   ]
  },
  {
   "cell_type": "code",
   "execution_count": 32,
   "metadata": {
    "collapsed": false
   },
   "outputs": [
    {
     "data": {
      "text/plain": [
       "'../data/raw\\\\1Aprto30Jun2014_DCMS_clean.pdf'"
      ]
     },
     "execution_count": 32,
     "metadata": {},
     "output_type": "execute_result"
    }
   ],
   "source": [
    "t = docs[0]\n",
    "t"
   ]
  },
  {
   "cell_type": "code",
   "execution_count": 33,
   "metadata": {
    "collapsed": false
   },
   "outputs": [],
   "source": [
    "\"\"\"\n",
    "See:\n",
    "- https://euske.github.io/pdfminer/programming.html\n",
    "- http://denis.papathanasiou.org/posts/2010.08.04.post.html\n",
    "\"\"\"\n",
    "\n",
    "import pdfminer\n",
    "\n",
    "from pdfminer.pdfparser import PDFParser\n",
    "from pdfminer.pdfdocument import PDFDocument\n",
    "from pdfminer.pdfpage import PDFPage\n",
    "from pdfminer.pdfpage import PDFTextExtractionNotAllowed\n",
    "from pdfminer.pdfinterp import PDFResourceManager\n",
    "from pdfminer.pdfinterp import PDFPageInterpreter\n",
    "from pdfminer.pdfdevice import PDFDevice\n",
    "\n",
    "from pdfminer.layout import LAParams\n",
    "from pdfminer.converter import PDFPageAggregator\n",
    "\n",
    "laparams = LAParams()\n",
    "\n",
    "fp = open(t, 'rb')\n",
    "parser = PDFParser(fp)\n",
    "document = PDFDocument(parser)\n",
    "\n",
    "if not document.is_extractable:\n",
    "    raise PDFTextExtractionNotAllowed\n",
    "\n",
    "rsrcmgr = PDFResourceManager()\n",
    "device = PDFPageAggregator(rsrcmgr, laparams=laparams)\n",
    "interpreter = PDFPageInterpreter(rsrcmgr, device)\n",
    "\n",
    "layouts = []\n",
    "for page in PDFPage.create_pages(document):\n",
    "    interpreter.process_page(page)\n",
    "    layouts.append(device.get_result())"
   ]
  },
  {
   "cell_type": "code",
   "execution_count": 34,
   "metadata": {
    "collapsed": true
   },
   "outputs": [],
   "source": [
    "l = layouts[6]"
   ]
  },
  {
   "cell_type": "code",
   "execution_count": 36,
   "metadata": {
    "collapsed": false,
    "scrolled": true
   },
   "outputs": [],
   "source": [
    "texts = []\n",
    "rects = []\n",
    "other = []\n",
    "\n",
    "for n, e in enumerate(l):\n",
    "    if isinstance(e, pdfminer.layout.LTTextBoxHorizontal):\n",
    "        texts.append(e)\n",
    "    elif isinstance(e, pdfminer.layout.LTRect):\n",
    "        rects.append(e)\n",
    "    else:\n",
    "        other.append(e)"
   ]
  },
  {
   "cell_type": "code",
   "execution_count": 37,
   "metadata": {
    "collapsed": false
   },
   "outputs": [
    {
     "name": "stdout",
     "output_type": "stream",
     "text": [
      "Department for Culture, Media and Sport \n",
      "\n",
      "Department for Culture, Media and Sport \n",
      "\n",
      "Department for Culture, Media and Sport \n",
      "\n"
     ]
    }
   ],
   "source": [
    "characters = []\n"
   ]
  },
  {
   "cell_type": "code",
   "execution_count": 64,
   "metadata": {
    "collapsed": false
   },
   "outputs": [],
   "source": [
    "TEXT_ELEMENTS = [\n",
    "    pdfminer.layout.LTTextBox,\n",
    "    pdfminer.layout.LTTextBoxHorizontal,\n",
    "    pdfminer.layout.LTTextLine,\n",
    "    pdfminer.layout.LTTextLineHorizontal\n",
    "]\n",
    "\n",
    "def extract_characters(element):\n",
    "    if isinstance(element, pdfminer.layout.LTChar):\n",
    "        return [element]\n",
    "    \n",
    "    if any(isinstance(element, i) for i in TEXT_ELEMENTS):\n",
    "        elements = []\n",
    "        for e in element:\n",
    "            elements += extract_characters(e)\n",
    "        return elements\n",
    "    return []"
   ]
  },
  {
   "cell_type": "code",
   "execution_count": 71,
   "metadata": {
    "collapsed": false
   },
   "outputs": [
    {
     "data": {
      "text/plain": [
       "u'Department for Culture, Media and Sport \\n'"
      ]
     },
     "execution_count": 71,
     "metadata": {},
     "output_type": "execute_result"
    }
   ],
   "source": [
    "texts[0].get_text()"
   ]
  },
  {
   "cell_type": "code",
   "execution_count": 78,
   "metadata": {
    "collapsed": false
   },
   "outputs": [
    {
     "name": "stdout",
     "output_type": "stream",
     "text": [
      "------\n",
      "Department for Culture, Media and Sport \n",
      "\n",
      "Department for Culture, Media and Sport \n",
      "------\n",
      " \n",
      "\n",
      " \n",
      "------\n",
      " \n",
      "\n",
      " \n",
      "------\n",
      "MEETINGS WITH EXTERNAL ORGANISATIONS2 (INCLUDING \n",
      "\n",
      "MEETINGS WITH EXTERNAL ORGANISATIONS2 (INCLUDING \n",
      "------\n",
      "MEETINGS WITH NEWSPAPER AND OTHER MEDIA PROPRIETORS, \n",
      "\n",
      "MEETINGS WITH NEWSPAPER AND OTHER MEDIA PROPRIETORS, \n",
      "------\n",
      "EDITORS AND SENIOR EXECUTIVES)  \n",
      "\n",
      "EDITORS AND SENIOR EXECUTIVES)  \n",
      "------\n",
      "Secretary of State, Rt Hon Maria Miller MP (to 8 April) \n",
      "Date of Meeting   Name of Organisation \n",
      "2 April 2014 \n",
      "\n",
      "Secretary of State, Rt Hon Maria Miller MP (to 8 April) Date of Meeting  Name of Organisation 2 April 2014 \n",
      "------\n",
      "Hay Group \n",
      "\n",
      "Hay Group \n",
      "------\n",
      "Secretary of State, Rt Hon Sajid Javid MP (from 9 April) \n",
      "Date of Meeting   Name of Organisation \n",
      "29 April 2014 \n",
      "7 May 2014 \n",
      "8 May 2014 \n",
      "\n",
      "Secretary of State, Rt Hon Sajid Javid MP (from 9 April) Date of Meeting  Name of Organisation 29 April 2014 7 May 2014 8 May 2014 \n",
      "------\n",
      "BBC \n",
      "BskyB, Jeremy Darroch \n",
      "Michael Burleigh \n",
      "\n",
      "BBC BskyB, Jeremy Darroch Michael Burleigh \n",
      "------\n",
      "13 May 2014 \n",
      "14 May 2014 \n",
      "14 May 2014 \n",
      "19 May 2014 \n",
      "19 May 2014 \n",
      "20 May 2014 \n",
      "20 May 2014 \n",
      "2 June 2014 \n",
      "3 June 2014 \n",
      "\n",
      "13 May 2014 14 May 2014 14 May 2014 19 May 2014 19 May 2014 20 May 2014 20 May 2014 2 June 2014 3 June 2014 \n",
      "------\n",
      "3 June 2014 \n",
      "3 June 2014 \n",
      "\n",
      "3 June 2014 3 June 2014 \n",
      "------\n",
      "3 June 2014 \n",
      "3 June 2014 \n",
      "\n",
      "3 June 2014 3 June 2014 \n",
      "------\n",
      "3 June 2014 \n",
      "\n",
      "3 June 2014 \n",
      "------\n",
      "4 June 2014 \n",
      "4 June 2014 \n",
      "\n",
      "4 June 2014 4 June 2014 \n",
      "------\n",
      "BBC Trust, Diane Coyle \n",
      "BT \n",
      "BBC, Lord Hall \n",
      "Talk Talk \n",
      "EE \n",
      "Visit England \n",
      "14-18NOW \n",
      "Telegraph, Lord Black \n",
      "IPO, BPI, MPAA, BT Group, \n",
      "Virgin Media, TalkTalk Group, \n",
      "BskyB \n",
      "Pinewood Studios \n",
      "Channel 4, David Abraham, \n",
      "Lord Burns \n",
      "Stonewall \n",
      "ITV, Adam Crozier, Archie \n",
      "Norman \n",
      "Facebook & Creative Industries \n",
      "Council \n",
      "Virgin Media \n",
      "Donmar Theatre \n",
      "RSC \n",
      "Southbank Centre \n",
      "Knowle West Media Centre \n",
      "Roundhouse \n",
      "Michael Grandage Co \n",
      "\n",
      "BBC Trust, Diane Coyle BT BBC, Lord Hall Talk Talk EE Visit England 14-18NOW Telegraph, Lord Black IPO, BPI, MPAA, BT Group, Virgin Media, TalkTalk Group, BskyB Pinewood Studios Channel 4, David Abraham, Lord Burns Stonewall ITV, Adam Crozier, Archie Norman Facebook & Creative Industries Council Virgin Media Donmar Theatre RSC Southbank Centre Knowle West Media Centre Roundhouse Michael Grandage Co \n",
      "------\n",
      "Purpose of Meeting       \n",
      "To discuss the Contestable \n",
      "Policy Fund Talent Project \n",
      "\n",
      "Purpose of Meeting       To discuss the Contestable Policy Fund Talent Project \n",
      "------\n",
      "Purpose of Meeting       \n",
      "Introductory meeting \n",
      "Introductory meeting \n",
      "Meeting to discuss First World \n",
      "War Centenary \n",
      "Introductory meeting \n",
      "Introductory meeting \n",
      "To discuss current projects \n",
      "To discuss ultrafast broadband \n",
      "Introductory meeting \n",
      "Introductory meeting \n",
      "Introductory meeting \n",
      "Introductory meeting \n",
      "To discuss VCAP \n",
      "\n",
      "Purpose of Meeting       Introductory meeting Introductory meeting Meeting to discuss First World War Centenary Introductory meeting Introductory meeting To discuss current projects To discuss ultrafast broadband Introductory meeting Introductory meeting Introductory meeting Introductory meeting To discuss VCAP \n",
      "------\n",
      "To discuss current projects \n",
      "Introductory meeting \n",
      "\n",
      "To discuss current projects Introductory meeting \n",
      "------\n",
      "Introductory meeting \n",
      "Introductory meeting \n",
      " \n",
      "Introductory meeting \n",
      "\n",
      "Introductory meeting Introductory meeting  Introductory meeting \n",
      "------\n",
      "Introductory meeting \n",
      "Roundtable to discuss status of \n",
      "arts in the UK \n",
      "\n",
      "Introductory meeting Roundtable to discuss status of arts in the UK \n",
      "------\n",
      "                                                             \n",
      "2 Does not normally include meetings with Government bodies such as other Government Departments \n",
      "and Agencies, NDPB’s, Non-Ministerial Departments, Agencies, Government reviews and \n",
      "representatives of Parliament, devolved or foreign governments. \n",
      " \n",
      " \n",
      "\n",
      "                                                             2 Does not normally include meetings with Government bodies such as other Government Departments and Agencies, NDPB’s, Non-Ministerial Departments, Agencies, Government reviews and representatives of Parliament, devolved or foreign governments.   \n",
      "------\n",
      " \n",
      "Transparency \n",
      " \n",
      "\n",
      " Transparency  \n",
      "------\n",
      "7 \n",
      "\n",
      "7 \n"
     ]
    }
   ],
   "source": [
    "for t in texts:\n",
    "    print(\"------\")\n",
    "    print(t.get_text())\n",
    "    print(\"\".join([c.get_text() for c in extract_characters(t)]))"
   ]
  },
  {
   "cell_type": "code",
   "execution_count": null,
   "metadata": {
    "collapsed": true
   },
   "outputs": [],
   "source": []
  }
 ],
 "metadata": {
  "kernelspec": {
   "display_name": "Python 2",
   "language": "python",
   "name": "python2"
  },
  "language_info": {
   "codemirror_mode": {
    "name": "ipython",
    "version": 2
   },
   "file_extension": ".py",
   "mimetype": "text/x-python",
   "name": "python",
   "nbconvert_exporter": "python",
   "pygments_lexer": "ipython2",
   "version": "2.7.10"
  }
 },
 "nbformat": 4,
 "nbformat_minor": 0
}
